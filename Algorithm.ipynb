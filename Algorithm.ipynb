{
 "cells": [
  {
   "cell_type": "code",
   "execution_count": 40,
   "metadata": {},
   "outputs": [],
   "source": [
    "import numpy as np\n",
    "import pandas as pd\n",
    "from pathlib import Path\n",
    "import os.path\n",
    "\n",
    "from sklearn.model_selection import train_test_split\n",
    "\n",
    "import tensorflow as tf\n",
    "\n",
    "from sklearn.metrics import r2_score"
   ]
  },
  {
   "cell_type": "code",
   "execution_count": 41,
   "metadata": {},
   "outputs": [],
   "source": [
    "# image_dir = Path('Final_Normal')"
   ]
  },
  {
   "cell_type": "markdown",
   "metadata": {},
   "source": [
    "### Create File DataFrame"
   ]
  },
  {
   "cell_type": "code",
   "execution_count": 42,
   "metadata": {},
   "outputs": [],
   "source": [
    "images = pd.read_excel('Normal.xlsx')"
   ]
  },
  {
   "cell_type": "code",
   "execution_count": 43,
   "metadata": {},
   "outputs": [
    {
     "data": {
      "text/html": [
       "<div>\n",
       "<style scoped>\n",
       "    .dataframe tbody tr th:only-of-type {\n",
       "        vertical-align: middle;\n",
       "    }\n",
       "\n",
       "    .dataframe tbody tr th {\n",
       "        vertical-align: top;\n",
       "    }\n",
       "\n",
       "    .dataframe thead th {\n",
       "        text-align: right;\n",
       "    }\n",
       "</style>\n",
       "<table border=\"1\" class=\"dataframe\">\n",
       "  <thead>\n",
       "    <tr style=\"text-align: right;\">\n",
       "      <th></th>\n",
       "      <th>Path</th>\n",
       "      <th>Age</th>\n",
       "    </tr>\n",
       "  </thead>\n",
       "  <tbody>\n",
       "    <tr>\n",
       "      <th>0</th>\n",
       "      <td>Final_Normal/00011419.png</td>\n",
       "      <td>80</td>\n",
       "    </tr>\n",
       "    <tr>\n",
       "      <th>1</th>\n",
       "      <td>Final_Normal/00018693.png</td>\n",
       "      <td>63</td>\n",
       "    </tr>\n",
       "    <tr>\n",
       "      <th>2</th>\n",
       "      <td>Final_Normal/00028236.png</td>\n",
       "      <td>70</td>\n",
       "    </tr>\n",
       "  </tbody>\n",
       "</table>\n",
       "</div>"
      ],
      "text/plain": [
       "                        Path  Age\n",
       "0  Final_Normal/00011419.png   80\n",
       "1  Final_Normal/00018693.png   63\n",
       "2  Final_Normal/00028236.png   70"
      ]
     },
     "execution_count": 43,
     "metadata": {},
     "output_type": "execute_result"
    }
   ],
   "source": [
    "images.head(3)"
   ]
  },
  {
   "cell_type": "code",
   "execution_count": 44,
   "metadata": {},
   "outputs": [],
   "source": [
    "images['Path'] = images['Path'].astype(str)"
   ]
  },
  {
   "cell_type": "code",
   "execution_count": 45,
   "metadata": {},
   "outputs": [],
   "source": [
    "# images['Age'] = images['Age'].astype(str)"
   ]
  },
  {
   "cell_type": "code",
   "execution_count": 46,
   "metadata": {},
   "outputs": [
    {
     "data": {
      "text/plain": [
       "Path    object\n",
       "Age      int64\n",
       "dtype: object"
      ]
     },
     "execution_count": 46,
     "metadata": {},
     "output_type": "execute_result"
    }
   ],
   "source": [
    "images.dtypes"
   ]
  },
  {
   "cell_type": "code",
   "execution_count": 47,
   "metadata": {},
   "outputs": [
    {
     "data": {
      "text/plain": [
       "708"
      ]
     },
     "execution_count": 47,
     "metadata": {},
     "output_type": "execute_result"
    }
   ],
   "source": [
    "len(images)"
   ]
  },
  {
   "cell_type": "code",
   "execution_count": 48,
   "metadata": {},
   "outputs": [],
   "source": [
    "# filepaths = pd.Series(list(image_dir.glob(r'**/*.png')), name='Filepath').astype(str)"
   ]
  },
  {
   "cell_type": "code",
   "execution_count": 49,
   "metadata": {},
   "outputs": [],
   "source": [
    "# ages = pd.read_csv('Final_Normal/Age.csv')"
   ]
  },
  {
   "cell_type": "code",
   "execution_count": 50,
   "metadata": {},
   "outputs": [],
   "source": [
    "# images = pd.concat([filepaths, ages], axis=1).sample(frac=1.0, random_state=1).reset_index(drop=True)"
   ]
  },
  {
   "cell_type": "code",
   "execution_count": 51,
   "metadata": {},
   "outputs": [],
   "source": [
    "# images.shape"
   ]
  },
  {
   "cell_type": "code",
   "execution_count": 52,
   "metadata": {},
   "outputs": [],
   "source": [
    "# images.to_csv('test.csv')"
   ]
  },
  {
   "cell_type": "code",
   "execution_count": 53,
   "metadata": {},
   "outputs": [],
   "source": [
    "# Let's only use 5000 images to speed up training time\n",
    "image_df = images.sample(708, random_state=1).reset_index(drop=True)\n",
    "\n",
    "train_df, test_df = train_test_split(image_df, train_size=0.7, shuffle=True, random_state=1)"
   ]
  },
  {
   "cell_type": "markdown",
   "metadata": {},
   "source": [
    "### Loading Images"
   ]
  },
  {
   "cell_type": "code",
   "execution_count": 54,
   "metadata": {},
   "outputs": [
    {
     "name": "stderr",
     "output_type": "stream",
     "text": [
      "C:\\Users\\neudo\\anaconda3\\lib\\site-packages\\keras\\preprocessing\\image.py:1285: UserWarning: This ImageDataGenerator specifies `zca_whitening`, which overrides setting of `featurewise_center`.\n",
      "  warnings.warn('This ImageDataGenerator specifies '\n"
     ]
    }
   ],
   "source": [
    "train_generator = tf.keras.preprocessing.image.ImageDataGenerator(\n",
    "    rescale=1./255,\n",
    "    validation_split=0.3,\n",
    "    width_shift_range = 20,\n",
    "    height_shift_range = 20,\n",
    "    horizontal_flip = False,\n",
    "    fill_mode = \"nearest\",\n",
    "    zca_whitening = True,\n",
    "    zca_epsilon = 1e-06,\n",
    "    channel_shift_range = 13\n",
    ")\n",
    "\n",
    "test_generator = tf.keras.preprocessing.image.ImageDataGenerator(\n",
    "    rescale=1./255\n",
    ")"
   ]
  },
  {
   "cell_type": "code",
   "execution_count": 55,
   "metadata": {},
   "outputs": [
    {
     "data": {
      "text/plain": [
       "(495, 2)"
      ]
     },
     "execution_count": 55,
     "metadata": {},
     "output_type": "execute_result"
    }
   ],
   "source": [
    "train_df.shape"
   ]
  },
  {
   "cell_type": "code",
   "execution_count": 56,
   "metadata": {},
   "outputs": [
    {
     "data": {
      "text/plain": [
       "(213, 2)"
      ]
     },
     "execution_count": 56,
     "metadata": {},
     "output_type": "execute_result"
    }
   ],
   "source": [
    "test_df.shape"
   ]
  },
  {
   "cell_type": "code",
   "execution_count": 57,
   "metadata": {},
   "outputs": [
    {
     "name": "stdout",
     "output_type": "stream",
     "text": [
      "Found 346 validated image filenames.\n",
      "Found 148 validated image filenames.\n",
      "Found 213 validated image filenames.\n"
     ]
    },
    {
     "name": "stderr",
     "output_type": "stream",
     "text": [
      "C:\\Users\\neudo\\anaconda3\\lib\\site-packages\\keras\\preprocessing\\image.py:989: UserWarning: Found 1 invalid image filename(s) in x_col=\"Path\". These filename(s) will be ignored.\n",
      "  warnings.warn('Found {} invalid image filename(s) in x_col=\"{}\". '\n"
     ]
    }
   ],
   "source": [
    "train_images = train_generator.flow_from_dataframe(\n",
    "    dataframe=train_df,\n",
    "    x_col='Path',\n",
    "    y_col='Age',\n",
    "    target_size=(120, 120),\n",
    "    class_mode='raw',\n",
    "    batch_size=32,\n",
    "#     shuffle=True,\n",
    "    seed=42,\n",
    "    subset='training'\n",
    ")\n",
    "\n",
    "val_images = train_generator.flow_from_dataframe(\n",
    "    dataframe=train_df,\n",
    "    x_col='Path',\n",
    "    y_col='Age',\n",
    "    target_size=(120, 120),\n",
    "    class_mode='raw',\n",
    "    batch_size=32,\n",
    "#     shuffle=True,\n",
    "    seed=42,\n",
    "    subset='validation'\n",
    ")\n",
    "\n",
    "test_images = test_generator.flow_from_dataframe(\n",
    "    dataframe=test_df,\n",
    "    x_col='Path',\n",
    "    y_col='Age',\n",
    "    target_size=(120, 120),\n",
    "    class_mode='raw',\n",
    "    batch_size=32,\n",
    "#     shuffle=False\n",
    ")"
   ]
  },
  {
   "cell_type": "markdown",
   "metadata": {},
   "source": [
    "### Training"
   ]
  },
  {
   "cell_type": "code",
   "execution_count": 85,
   "metadata": {},
   "outputs": [
    {
     "name": "stderr",
     "output_type": "stream",
     "text": [
      "C:\\Users\\neudo\\anaconda3\\lib\\site-packages\\keras\\optimizers\\optimizer_v2\\adam.py:110: UserWarning: The `lr` argument is deprecated, use `learning_rate` instead.\n",
      "  super(Adam, self).__init__(name, **kwargs)\n",
      "C:\\Users\\neudo\\anaconda3\\lib\\site-packages\\keras\\preprocessing\\image.py:1663: UserWarning: This ImageDataGenerator specifies `featurewise_center`, but it hasn't been fit on any training data. Fit it first by calling `.fit(numpy_data)`.\n",
      "  warnings.warn('This ImageDataGenerator specifies '\n",
      "C:\\Users\\neudo\\anaconda3\\lib\\site-packages\\keras\\preprocessing\\image.py:1682: UserWarning: This ImageDataGenerator specifies `zca_whitening`, but it hasn't been fit on any training data. Fit it first by calling `.fit(numpy_data)`.\n",
      "  warnings.warn('This ImageDataGenerator specifies '\n"
     ]
    },
    {
     "name": "stdout",
     "output_type": "stream",
     "text": [
      "Epoch 1/300\n",
      "11/11 [==============================] - 5s 418ms/step - loss: 5086.9131 - val_loss: 4700.4897\n",
      "Epoch 2/300\n",
      "11/11 [==============================] - 4s 383ms/step - loss: 5032.9219 - val_loss: 4601.2954\n",
      "Epoch 3/300\n",
      "11/11 [==============================] - 4s 381ms/step - loss: 4906.0063 - val_loss: 4605.7998\n",
      "Epoch 4/300\n",
      "11/11 [==============================] - 4s 387ms/step - loss: 4643.6523 - val_loss: 4294.4058\n",
      "Epoch 5/300\n",
      "11/11 [==============================] - 4s 388ms/step - loss: 4225.1631 - val_loss: 3909.5977\n",
      "Epoch 6/300\n",
      "11/11 [==============================] - 4s 385ms/step - loss: 3575.5234 - val_loss: 3364.5601\n",
      "Epoch 7/300\n",
      "11/11 [==============================] - 4s 383ms/step - loss: 2807.9597 - val_loss: 2534.4207\n",
      "Epoch 8/300\n",
      "11/11 [==============================] - 4s 387ms/step - loss: 2028.7466 - val_loss: 1422.3344\n",
      "Epoch 9/300\n",
      "11/11 [==============================] - 4s 381ms/step - loss: 1462.2485 - val_loss: 607.8536\n",
      "Epoch 10/300\n",
      "11/11 [==============================] - 4s 375ms/step - loss: 1000.0880 - val_loss: 149.9881\n",
      "Epoch 11/300\n",
      "11/11 [==============================] - 4s 384ms/step - loss: 636.0048 - val_loss: 290.3029\n",
      "Epoch 12/300\n",
      "11/11 [==============================] - 4s 381ms/step - loss: 386.0010 - val_loss: 1030.6344\n",
      "Epoch 13/300\n",
      "11/11 [==============================] - 4s 381ms/step - loss: 192.4425 - val_loss: 1809.8553\n",
      "Epoch 14/300\n",
      "11/11 [==============================] - 4s 381ms/step - loss: 122.9234 - val_loss: 1918.4890\n",
      "Epoch 15/300\n",
      "11/11 [==============================] - 4s 383ms/step - loss: 101.8453 - val_loss: 1266.3191\n",
      "Epoch 16/300\n",
      "11/11 [==============================] - 4s 389ms/step - loss: 87.0704 - val_loss: 657.2106\n",
      "Epoch 17/300\n",
      "11/11 [==============================] - 4s 386ms/step - loss: 86.9848 - val_loss: 356.6324\n",
      "Epoch 18/300\n",
      "11/11 [==============================] - 4s 386ms/step - loss: 84.1412 - val_loss: 286.3967\n",
      "Epoch 19/300\n",
      "11/11 [==============================] - 4s 393ms/step - loss: 84.4057 - val_loss: 261.5182\n",
      "Epoch 20/300\n",
      "11/11 [==============================] - 4s 381ms/step - loss: 85.9506 - val_loss: 202.3787\n",
      "Epoch 21/300\n",
      "11/11 [==============================] - 4s 375ms/step - loss: 82.4955 - val_loss: 160.9339\n",
      "Epoch 22/300\n",
      "11/11 [==============================] - 4s 379ms/step - loss: 82.0077 - val_loss: 129.0289\n",
      "Epoch 23/300\n",
      "11/11 [==============================] - 4s 385ms/step - loss: 84.4770 - val_loss: 135.8401\n",
      "Epoch 24/300\n",
      "11/11 [==============================] - 4s 379ms/step - loss: 83.2986 - val_loss: 113.5788\n",
      "Epoch 25/300\n",
      "11/11 [==============================] - 4s 382ms/step - loss: 80.8515 - val_loss: 112.8469\n",
      "Epoch 26/300\n",
      "11/11 [==============================] - 4s 378ms/step - loss: 82.0436 - val_loss: 106.4071\n",
      "Epoch 27/300\n",
      "11/11 [==============================] - 4s 390ms/step - loss: 82.8596 - val_loss: 112.4447\n",
      "Epoch 28/300\n",
      "11/11 [==============================] - 4s 385ms/step - loss: 81.7814 - val_loss: 130.4846\n",
      "Epoch 29/300\n",
      "11/11 [==============================] - 4s 385ms/step - loss: 85.9338 - val_loss: 96.9055\n",
      "Epoch 30/300\n",
      "11/11 [==============================] - 4s 378ms/step - loss: 83.6612 - val_loss: 97.2074\n",
      "Epoch 31/300\n",
      "11/11 [==============================] - 4s 378ms/step - loss: 83.0246 - val_loss: 98.8854\n",
      "Epoch 32/300\n",
      "11/11 [==============================] - 4s 380ms/step - loss: 84.0558 - val_loss: 114.4166\n",
      "Epoch 33/300\n",
      "11/11 [==============================] - 4s 387ms/step - loss: 82.6443 - val_loss: 128.1792\n",
      "Epoch 34/300\n",
      "11/11 [==============================] - 4s 381ms/step - loss: 81.7449 - val_loss: 115.5149\n",
      "Epoch 35/300\n",
      "11/11 [==============================] - 4s 381ms/step - loss: 81.7815 - val_loss: 114.4946\n",
      "Epoch 36/300\n",
      "11/11 [==============================] - 4s 389ms/step - loss: 83.3888 - val_loss: 117.4286\n",
      "Epoch 37/300\n",
      "11/11 [==============================] - 4s 378ms/step - loss: 80.8215 - val_loss: 111.2340\n",
      "Epoch 38/300\n",
      "11/11 [==============================] - 4s 387ms/step - loss: 82.9150 - val_loss: 130.7799\n",
      "Epoch 39/300\n",
      "11/11 [==============================] - 4s 380ms/step - loss: 81.3090 - val_loss: 247.0264\n",
      "Epoch 40/300\n",
      "11/11 [==============================] - 4s 381ms/step - loss: 80.1996 - val_loss: 221.2710\n",
      "Epoch 41/300\n",
      "11/11 [==============================] - 4s 383ms/step - loss: 82.4878 - val_loss: 198.9189\n",
      "Epoch 42/300\n",
      "11/11 [==============================] - 4s 386ms/step - loss: 81.9197 - val_loss: 208.8248\n",
      "Epoch 43/300\n",
      "11/11 [==============================] - 4s 386ms/step - loss: 82.1065 - val_loss: 246.2661\n",
      "Epoch 44/300\n",
      "11/11 [==============================] - 4s 380ms/step - loss: 80.6786 - val_loss: 196.4643\n",
      "Epoch 45/300\n",
      "11/11 [==============================] - 4s 388ms/step - loss: 82.1270 - val_loss: 307.7024\n",
      "Epoch 46/300\n",
      "11/11 [==============================] - 4s 385ms/step - loss: 80.2280 - val_loss: 310.7528\n",
      "Epoch 47/300\n",
      "11/11 [==============================] - 4s 378ms/step - loss: 80.9774 - val_loss: 360.2435\n",
      "Epoch 48/300\n",
      "11/11 [==============================] - 4s 385ms/step - loss: 82.5142 - val_loss: 361.9620\n",
      "Epoch 49/300\n",
      "11/11 [==============================] - 4s 375ms/step - loss: 80.6839 - val_loss: 322.3121\n"
     ]
    }
   ],
   "source": [
    "from tensorflow.keras.optimizers import RMSprop\n",
    "from tensorflow.keras.optimizers import Adam \n",
    "\n",
    "inputs = tf.keras.Input(shape=(120, 120, 3))\n",
    "x = tf.keras.layers.Conv2D(filters=16, kernel_size=(3, 3), activation='relu')(inputs)\n",
    "x = tf.keras.layers.MaxPool2D()(x)\n",
    "x = tf.keras.layers.Dropout(0.5)(x)\n",
    "x = tf.keras.layers.Conv2D(filters=32, kernel_size=(3, 3), activation='relu')(x)\n",
    "x = tf.keras.layers.MaxPool2D()(x)\n",
    "x = tf.keras.layers.BatchNormalization()(x)\n",
    "x = tf.keras.layers.GlobalAveragePooling2D()(x)\n",
    "x = tf.keras.layers.Dense(64, activation='relu')(x)\n",
    "x = tf.keras.layers.Dense(64, activation='relu')(x)\n",
    "outputs = tf.keras.layers.Dense(1, activation='linear')(x)\n",
    "\n",
    "model = tf.keras.Model(inputs=inputs, outputs=outputs)\n",
    "\n",
    "model.compile(\n",
    "    optimizer= Adam(lr=0.001),\n",
    "    loss='mse'\n",
    ")\n",
    "\n",
    "history = model.fit(\n",
    "    train_images,\n",
    "    validation_data=val_images,\n",
    "    epochs=300,\n",
    "    callbacks=[\n",
    "        tf.keras.callbacks.EarlyStopping(\n",
    "            monitor='val_loss',\n",
    "            patience=20,\n",
    "            restore_best_weights=True\n",
    "        )\n",
    "    ]\n",
    ")"
   ]
  },
  {
   "cell_type": "code",
   "execution_count": 86,
   "metadata": {},
   "outputs": [
    {
     "name": "stdout",
     "output_type": "stream",
     "text": [
      "7/7 [==============================] - 1s 122ms/step\n",
      "MAE: 7.477\n",
      "MSE: 84.035\n",
      "R2: -0.066\n"
     ]
    }
   ],
   "source": [
    "from sklearn import metrics\n",
    "from sklearn.metrics import r2_score\n",
    "\n",
    "predictions = np.squeeze(model.predict(test_images))\n",
    "true_ages = test_images.labels\n",
    "\n",
    "mae = metrics.mean_absolute_error(true_ages, predictions)\n",
    "print('MAE: %.3f' % mae)\n",
    "mse = metrics.mean_squared_error(true_ages, predictions)\n",
    "print('MSE: %.3f' % mse)\n",
    "r2 = r2_score(true_ages, predictions)\n",
    "print('R2: %.3f' % r2)"
   ]
  },
  {
   "cell_type": "code",
   "execution_count": 87,
   "metadata": {},
   "outputs": [
    {
     "name": "stdout",
     "output_type": "stream",
     "text": [
      "Null/Baseline Model Test RMSE: 8.87705\n"
     ]
    }
   ],
   "source": [
    "null_rmse = np.sqrt(np.sum((true_ages - np.mean(true_ages))**2) / len(true_ages))\n",
    "print(\"Null/Baseline Model Test RMSE: {:.5f}\".format(null_rmse))"
   ]
  },
  {
   "cell_type": "markdown",
   "metadata": {},
   "source": [
    "### "
   ]
  },
  {
   "cell_type": "code",
   "execution_count": 90,
   "metadata": {},
   "outputs": [
    {
     "data": {
      "image/png": "[encoded data removed]",
      "text/plain": [
       "<Figure size 504x432 with 1 Axes>"
      ]
     },
     "metadata": {
      "needs_background": "light"
     },
     "output_type": "display_data"
    }
   ],
   "source": [
    "import matplotlib.pyplot as plt\n",
    "\n",
    "plt.figure(figsize=(7,6))\n",
    "ax = plt.scatter(true_ages, predictions, color = 'blue')\n",
    "plt.title('CNN Regression Algorithm')\n",
    "plt.xlabel('Real Age')\n",
    "plt.ylabel('Predicted Age')\n",
    "fig = ax.get_figure()\n",
    "fig.savefig('BRcatterPlot.png')"
   ]
  },
  {
   "cell_type": "code",
   "execution_count": 84,
   "metadata": {},
   "outputs": [
    {
     "data": {
      "image/png": "[encoded data removed]",
      "text/plain": [
       "<IPython.core.display.Image object>"
      ]
     },
     "execution_count": 84,
     "metadata": {},
     "output_type": "execute_result"
    }
   ],
   "source": [
    "import keras.utils.vis_utils\n",
    "from importlib import reload\n",
    "reload(keras.utils.vis_utils)\n",
    "\n",
    "\n",
    "from keras.utils.vis_utils import plot_model\n",
    "plot_model(model, to_file='model_plot.png', show_shapes=True, show_layer_names=True)"
   ]
  },
  {
   "cell_type": "code",
   "execution_count": null,
   "metadata": {},
   "outputs": [],
   "source": []
  },
  {
   "cell_type": "code",
   "execution_count": null,
   "metadata": {},
   "outputs": [],
   "source": []
  }
 ],
 "metadata": {
  "kernelspec": {
   "display_name": "Python 3",
   "language": "python",
   "name": "python3"
  },
  "language_info": {
   "codemirror_mode": {
    "name": "ipython",
    "version": 3
   },
   "file_extension": ".py",
   "mimetype": "text/x-python",
   "name": "python",
   "nbconvert_exporter": "python",
   "pygments_lexer": "ipython3",
   "version": "3.8.5"
  }
 },
 "nbformat": 4,
 "nbformat_minor": 4
}
